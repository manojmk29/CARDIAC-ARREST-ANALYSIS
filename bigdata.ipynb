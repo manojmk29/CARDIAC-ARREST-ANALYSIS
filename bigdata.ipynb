{
 "cells": [
  {
   "cell_type": "code",
   "execution_count": 1,
   "metadata": {},
   "outputs": [],
   "source": [
    "#importing required packages\n",
    "from pyspark.sql import *\n",
    "from pyspark.sql.types import *\n",
    "import six\n",
    "from pyspark.ml.feature import VectorAssembler\n",
    "from pyspark.ml.evaluation import RegressionEvaluator\n",
    "from pyspark.ml.regression import LinearRegression\n",
    "from pyspark.ml.regression import DecisionTreeRegressor\n",
    "from pyspark.ml.regression import GBTRegressor"
   ]
  },
  {
   "cell_type": "code",
   "execution_count": 2,
   "metadata": {},
   "outputs": [],
   "source": [
    "#creating spark session\n",
    "spark = SparkSession.builder.master(\"local\").appName(\"CAT2\").getOrCreate()\n",
    "\n",
    "#creating schema\n",
    "schema = StructType([\n",
    "    StructField('age', IntegerType(), True),\n",
    "    StructField('anaemia', IntegerType(), True),\n",
    "    StructField('creatinine_phosphokinase', IntegerType(), True),\n",
    "    StructField('diabetes', IntegerType(), True),\n",
    "    StructField('ejection_fraction', IntegerType(), True),\n",
    "    StructField('high_blood_pressure', IntegerType(), True),\n",
    "    StructField('platelets', DoubleType(), True),\n",
    "    StructField('serum_creatinine', DoubleType(), True),\n",
    "    StructField('serum_sodium', IntegerType(), True),\n",
    "    StructField('sex', IntegerType(), True),\n",
    "    StructField('smoking', IntegerType(), True),\n",
    "    StructField('time', IntegerType(), True),\n",
    "    StructField('DEATH_EVENT', IntegerType(), True)])"
   ]
  },
  {
   "cell_type": "code",
   "execution_count": 3,
   "metadata": {},
   "outputs": [],
   "source": [
    "#importing dataset as rdd dataframe\n",
    "heart_df = spark.read.format('csv').option('header',True).schema(schema).load('Downloads/heart.csv')"
   ]
  },
  {
   "cell_type": "code",
   "execution_count": 4,
   "metadata": {},
   "outputs": [
    {
     "name": "stdout",
     "output_type": "stream",
     "text": [
      "Schema\n",
      "root\n",
      " |-- age: integer (nullable = true)\n",
      " |-- anaemia: integer (nullable = true)\n",
      " |-- creatinine_phosphokinase: integer (nullable = true)\n",
      " |-- diabetes: integer (nullable = true)\n",
      " |-- ejection_fraction: integer (nullable = true)\n",
      " |-- high_blood_pressure: integer (nullable = true)\n",
      " |-- platelets: double (nullable = true)\n",
      " |-- serum_creatinine: double (nullable = true)\n",
      " |-- serum_sodium: integer (nullable = true)\n",
      " |-- sex: integer (nullable = true)\n",
      " |-- smoking: integer (nullable = true)\n",
      " |-- time: integer (nullable = true)\n",
      " |-- DEATH_EVENT: integer (nullable = true)\n",
      "\n",
      "None\n"
     ]
    }
   ],
   "source": [
    "#printing schema\n",
    "print(\"Schema\")\n",
    "print(heart_df.printSchema())"
   ]
  },
  {
   "cell_type": "code",
   "execution_count": 5,
   "metadata": {},
   "outputs": [
    {
     "name": "stdout",
     "output_type": "stream",
     "text": [
      "Printing Dataframe\n",
      "+---+-------+------------------------+--------+-----------------+-------------------+---------+----------------+------------+---+-------+----+-----------+\n",
      "|age|anaemia|creatinine_phosphokinase|diabetes|ejection_fraction|high_blood_pressure|platelets|serum_creatinine|serum_sodium|sex|smoking|time|DEATH_EVENT|\n",
      "+---+-------+------------------------+--------+-----------------+-------------------+---------+----------------+------------+---+-------+----+-----------+\n",
      "| 75|      0|                     582|       0|               20|                  1| 265000.0|             1.9|         130|  1|      0|   4|          1|\n",
      "| 55|      0|                    7861|       0|               38|                  0|263358.03|             1.1|         136|  1|      0|   6|          1|\n",
      "| 65|      0|                     146|       0|               20|                  0| 162000.0|             1.3|         129|  1|      1|   7|          1|\n",
      "| 50|      1|                     111|       0|               20|                  0| 210000.0|             1.9|         137|  1|      0|   7|          1|\n",
      "| 65|      1|                     160|       1|               20|                  0| 327000.0|             2.7|         116|  0|      0|   8|          1|\n",
      "| 90|      1|                      47|       0|               40|                  1| 204000.0|             2.1|         132|  1|      1|   8|          1|\n",
      "| 75|      1|                     246|       0|               15|                  0| 127000.0|             1.2|         137|  1|      0|  10|          1|\n",
      "| 60|      1|                     315|       1|               60|                  0| 454000.0|             1.1|         131|  1|      1|  10|          1|\n",
      "| 65|      0|                     157|       0|               65|                  0|263358.03|             1.5|         138|  0|      0|  10|          1|\n",
      "| 80|      1|                     123|       0|               35|                  1| 388000.0|             9.4|         133|  1|      1|  10|          1|\n",
      "| 75|      1|                      81|       0|               38|                  1| 368000.0|             4.0|         131|  1|      1|  10|          1|\n",
      "| 62|      0|                     231|       0|               25|                  1| 253000.0|             0.9|         140|  1|      1|  10|          1|\n",
      "| 45|      1|                     981|       0|               30|                  0| 136000.0|             1.1|         137|  1|      0|  11|          1|\n",
      "| 50|      1|                     168|       0|               38|                  1| 276000.0|             1.1|         137|  1|      0|  11|          1|\n",
      "| 49|      1|                      80|       0|               30|                  1| 427000.0|             1.0|         138|  0|      0|  12|          0|\n",
      "| 82|      1|                     379|       0|               50|                  0|  47000.0|             1.3|         136|  1|      0|  13|          1|\n",
      "| 87|      1|                     149|       0|               38|                  0| 262000.0|             0.9|         140|  1|      0|  14|          1|\n",
      "| 45|      0|                     582|       0|               14|                  0| 166000.0|             0.8|         127|  1|      0|  14|          1|\n",
      "| 70|      1|                     125|       0|               25|                  1| 237000.0|             1.0|         140|  0|      0|  15|          1|\n",
      "| 48|      1|                     582|       1|               55|                  0|  87000.0|             1.9|         121|  0|      0|  15|          1|\n",
      "+---+-------+------------------------+--------+-----------------+-------------------+---------+----------------+------------+---+-------+----+-----------+\n",
      "only showing top 20 rows\n",
      "\n"
     ]
    }
   ],
   "source": [
    "#printing dataframe\n",
    "print(\"Printing Dataframe\")\n",
    "heart_df.show()"
   ]
  },
  {
   "cell_type": "code",
   "execution_count": 6,
   "metadata": {},
   "outputs": [
    {
     "name": "stdout",
     "output_type": "stream",
     "text": [
      "Summary statistics\n"
     ]
    },
    {
     "data": {
      "text/html": [
       "<div>\n",
       "<style scoped>\n",
       "    .dataframe tbody tr th:only-of-type {\n",
       "        vertical-align: middle;\n",
       "    }\n",
       "\n",
       "    .dataframe tbody tr th {\n",
       "        vertical-align: top;\n",
       "    }\n",
       "\n",
       "    .dataframe thead th {\n",
       "        text-align: right;\n",
       "    }\n",
       "</style>\n",
       "<table border=\"1\" class=\"dataframe\">\n",
       "  <thead>\n",
       "    <tr style=\"text-align: right;\">\n",
       "      <th></th>\n",
       "      <th>0</th>\n",
       "      <th>1</th>\n",
       "      <th>2</th>\n",
       "      <th>3</th>\n",
       "      <th>4</th>\n",
       "    </tr>\n",
       "  </thead>\n",
       "  <tbody>\n",
       "    <tr>\n",
       "      <th>summary</th>\n",
       "      <td>count</td>\n",
       "      <td>mean</td>\n",
       "      <td>stddev</td>\n",
       "      <td>min</td>\n",
       "      <td>max</td>\n",
       "    </tr>\n",
       "    <tr>\n",
       "      <th>age</th>\n",
       "      <td>23652</td>\n",
       "      <td>67.50769490952139</td>\n",
       "      <td>12.575222228396107</td>\n",
       "      <td>23</td>\n",
       "      <td>99</td>\n",
       "    </tr>\n",
       "    <tr>\n",
       "      <th>anaemia</th>\n",
       "      <td>23696</td>\n",
       "      <td>0.4826975016880486</td>\n",
       "      <td>0.4997110781908752</td>\n",
       "      <td>0</td>\n",
       "      <td>1</td>\n",
       "    </tr>\n",
       "    <tr>\n",
       "      <th>creatinine_phosphokinase</th>\n",
       "      <td>23696</td>\n",
       "      <td>1077.9044142471303</td>\n",
       "      <td>661.610899691948</td>\n",
       "      <td>23</td>\n",
       "      <td>7861</td>\n",
       "    </tr>\n",
       "    <tr>\n",
       "      <th>diabetes</th>\n",
       "      <td>23696</td>\n",
       "      <td>1.0531313301823093</td>\n",
       "      <td>6.795316671236788</td>\n",
       "      <td>0</td>\n",
       "      <td>90</td>\n",
       "    </tr>\n",
       "    <tr>\n",
       "      <th>ejection_fraction</th>\n",
       "      <td>23696</td>\n",
       "      <td>37.79274983119514</td>\n",
       "      <td>12.238839987436206</td>\n",
       "      <td>0</td>\n",
       "      <td>80</td>\n",
       "    </tr>\n",
       "    <tr>\n",
       "      <th>high_blood_pressure</th>\n",
       "      <td>23696</td>\n",
       "      <td>11.69112930452397</td>\n",
       "      <td>125.0911693481484</td>\n",
       "      <td>0</td>\n",
       "      <td>1998</td>\n",
       "    </tr>\n",
       "    <tr>\n",
       "      <th>platelets</th>\n",
       "      <td>23696</td>\n",
       "      <td>261868.2184199851</td>\n",
       "      <td>94125.82543797953</td>\n",
       "      <td>25100.0</td>\n",
       "      <td>850000.0</td>\n",
       "    </tr>\n",
       "    <tr>\n",
       "      <th>serum_creatinine</th>\n",
       "      <td>23696</td>\n",
       "      <td>1.6750303848751371</td>\n",
       "      <td>6.4535472106958665</td>\n",
       "      <td>0.5</td>\n",
       "      <td>143.0</td>\n",
       "    </tr>\n",
       "    <tr>\n",
       "      <th>serum_sodium</th>\n",
       "      <td>23696</td>\n",
       "      <td>136.31195138419986</td>\n",
       "      <td>7.565578962212129</td>\n",
       "      <td>0</td>\n",
       "      <td>148</td>\n",
       "    </tr>\n",
       "    <tr>\n",
       "      <th>sex</th>\n",
       "      <td>23696</td>\n",
       "      <td>0.6569885212694125</td>\n",
       "      <td>0.4747253046017202</td>\n",
       "      <td>0</td>\n",
       "      <td>1</td>\n",
       "    </tr>\n",
       "    <tr>\n",
       "      <th>smoking</th>\n",
       "      <td>23696</td>\n",
       "      <td>0.7569209993247805</td>\n",
       "      <td>9.663771152232572</td>\n",
       "      <td>0</td>\n",
       "      <td>215</td>\n",
       "    </tr>\n",
       "    <tr>\n",
       "      <th>time</th>\n",
       "      <td>23696</td>\n",
       "      <td>120.39635381498987</td>\n",
       "      <td>77.67949296394266</td>\n",
       "      <td>0</td>\n",
       "      <td>285</td>\n",
       "    </tr>\n",
       "    <tr>\n",
       "      <th>DEATH_EVENT</th>\n",
       "      <td>23696</td>\n",
       "      <td>0.3477380148548278</td>\n",
       "      <td>0.47626238588264996</td>\n",
       "      <td>0</td>\n",
       "      <td>1</td>\n",
       "    </tr>\n",
       "  </tbody>\n",
       "</table>\n",
       "</div>"
      ],
      "text/plain": [
       "                              0                   1                    2  \\\n",
       "summary                   count                mean               stddev   \n",
       "age                       23652   67.50769490952139   12.575222228396107   \n",
       "anaemia                   23696  0.4826975016880486   0.4997110781908752   \n",
       "creatinine_phosphokinase  23696  1077.9044142471303     661.610899691948   \n",
       "diabetes                  23696  1.0531313301823093    6.795316671236788   \n",
       "ejection_fraction         23696   37.79274983119514   12.238839987436206   \n",
       "high_blood_pressure       23696   11.69112930452397    125.0911693481484   \n",
       "platelets                 23696   261868.2184199851    94125.82543797953   \n",
       "serum_creatinine          23696  1.6750303848751371   6.4535472106958665   \n",
       "serum_sodium              23696  136.31195138419986    7.565578962212129   \n",
       "sex                       23696  0.6569885212694125   0.4747253046017202   \n",
       "smoking                   23696  0.7569209993247805    9.663771152232572   \n",
       "time                      23696  120.39635381498987    77.67949296394266   \n",
       "DEATH_EVENT               23696  0.3477380148548278  0.47626238588264996   \n",
       "\n",
       "                                3         4  \n",
       "summary                       min       max  \n",
       "age                            23        99  \n",
       "anaemia                         0         1  \n",
       "creatinine_phosphokinase       23      7861  \n",
       "diabetes                        0        90  \n",
       "ejection_fraction               0        80  \n",
       "high_blood_pressure             0      1998  \n",
       "platelets                 25100.0  850000.0  \n",
       "serum_creatinine              0.5     143.0  \n",
       "serum_sodium                    0       148  \n",
       "sex                             0         1  \n",
       "smoking                         0       215  \n",
       "time                            0       285  \n",
       "DEATH_EVENT                     0         1  "
      ]
     },
     "execution_count": 6,
     "metadata": {},
     "output_type": "execute_result"
    }
   ],
   "source": [
    "#Summary statistics\n",
    "print(\"Summary statistics\")\n",
    "heart_df.describe().toPandas().transpose()"
   ]
  },
  {
   "cell_type": "code",
   "execution_count": 7,
   "metadata": {},
   "outputs": [
    {
     "name": "stdout",
     "output_type": "stream",
     "text": [
      "Correlation for dataframe with DEATH EVENT\n",
      "Correlation to DEATH_EVENT for  age 0.023002997846622325\n",
      "Correlation to DEATH_EVENT for  anaemia 0.01623841010415318\n",
      "Correlation to DEATH_EVENT for  creatinine_phosphokinase 0.010057939008859717\n",
      "Correlation to DEATH_EVENT for  diabetes 0.008139721849027285\n",
      "Correlation to DEATH_EVENT for  ejection_fraction -0.20959416630615788\n",
      "Correlation to DEATH_EVENT for  high_blood_pressure 0.008354778793895266\n",
      "Correlation to DEATH_EVENT for  platelets -0.05338207026430099\n",
      "Correlation to DEATH_EVENT for  serum_creatinine 0.014214069167659478\n",
      "Correlation to DEATH_EVENT for  serum_sodium -0.10469320114375177\n",
      "Correlation to DEATH_EVENT for  sex 0.010903750755395217\n",
      "Correlation to DEATH_EVENT for  smoking -0.03254317481342146\n",
      "Correlation to DEATH_EVENT for  time -0.5668730347474669\n",
      "Correlation to DEATH_EVENT for  DEATH_EVENT 1.0\n"
     ]
    }
   ],
   "source": [
    "print(\"Correlation for dataframe with DEATH EVENT\")\n",
    "for i in heart_df.columns:\n",
    "    if not( isinstance(heart_df.select(i).take(1)[0][0], six.string_types)):\n",
    "        print( \"Correlation to DEATH_EVENT for \", i, heart_df.stat.corr('DEATH_EVENT',i))"
   ]
  },
  {
   "cell_type": "code",
   "execution_count": 8,
   "metadata": {},
   "outputs": [
    {
     "name": "stdout",
     "output_type": "stream",
     "text": [
      "+--------------------+-----------+\n",
      "|            features|DEATH_EVENT|\n",
      "+--------------------+-----------+\n",
      "|[75.0,582.0,20.0,...|          1|\n",
      "|[55.0,7861.0,38.0...|          1|\n",
      "|[65.0,146.0,20.0,...|          1|\n",
      "|[50.0,111.0,20.0,...|          1|\n",
      "|[65.0,160.0,20.0,...|          1|\n",
      "|[90.0,47.0,40.0,2...|          1|\n",
      "|[75.0,246.0,15.0,...|          1|\n",
      "|[60.0,315.0,60.0,...|          1|\n",
      "|[65.0,157.0,65.0,...|          1|\n",
      "|[80.0,123.0,35.0,...|          1|\n",
      "|[75.0,81.0,38.0,3...|          1|\n",
      "|[62.0,231.0,25.0,...|          1|\n",
      "|[45.0,981.0,30.0,...|          1|\n",
      "|[50.0,168.0,38.0,...|          1|\n",
      "|[49.0,80.0,30.0,4...|          0|\n",
      "|[82.0,379.0,50.0,...|          1|\n",
      "|[87.0,149.0,38.0,...|          1|\n",
      "|[45.0,582.0,14.0,...|          1|\n",
      "|[70.0,125.0,25.0,...|          1|\n",
      "|[48.0,582.0,55.0,...|          1|\n",
      "+--------------------+-----------+\n",
      "only showing top 20 rows\n",
      "\n"
     ]
    }
   ],
   "source": [
    "#combining datas for fitting models\n",
    "vectorAssembler = VectorAssembler(inputCols = ['age', 'creatinine_phosphokinase', 'ejection_fraction', 'platelets', 'serum_creatinine', 'serum_sodium'], outputCol = 'features')\n",
    "vheart_df = vectorAssembler.setHandleInvalid(\"skip\").transform(heart_df)\n",
    "vheart_df = vheart_df.select(['features', 'DEATH_EVENT'])\n",
    "vheart_df.show()"
   ]
  },
  {
   "cell_type": "code",
   "execution_count": 9,
   "metadata": {},
   "outputs": [],
   "source": [
    "#splitting training and test data\n",
    "splits = vheart_df.randomSplit([0.7, 0.3])\n",
    "train_df = splits[0]\n",
    "test_df = splits[1]"
   ]
  },
  {
   "cell_type": "code",
   "execution_count": 21,
   "metadata": {},
   "outputs": [
    {
     "name": "stdout",
     "output_type": "stream",
     "text": [
      "Coefficients: [0.0008619177548666024,6.080738605538797e-06,-0.007817605965938543,-1.9157740949796373e-07,-0.013189934669389536,-0.014401674914041509]\n",
      "Intercept: 2.611339399245204\n",
      "RMSE: 0.459031\n"
     ]
    }
   ],
   "source": [
    "#linear regression for training data\n",
    "lr = LinearRegression(featuresCol = 'features', labelCol='DEATH_EVENT')\n",
    "lr_model = lr.fit(train_df)\n",
    "print(\"Coefficients: \" + str(lr_model.coefficients))\n",
    "print(\"Intercept: \" + str(lr_model.intercept))\n",
    "trainingSummary = lr_model.summary\n",
    "print(\"RMSE: %f\" % trainingSummary.rootMeanSquaredError)\n"
   ]
  },
  {
   "cell_type": "code",
   "execution_count": 11,
   "metadata": {},
   "outputs": [
    {
     "name": "stdout",
     "output_type": "stream",
     "text": [
      "+-------+-------------------+\n",
      "|summary|        DEATH_EVENT|\n",
      "+-------+-------------------+\n",
      "|  count|              16593|\n",
      "|   mean| 0.3463508708491533|\n",
      "| stddev|0.47582096397269236|\n",
      "|    min|                  0|\n",
      "|    max|                  1|\n",
      "+-------+-------------------+\n",
      "\n",
      "None\n",
      "Root Mean Squared Error (RMSE) on test data (LinearRegression)= 0.461956\n"
     ]
    }
   ],
   "source": [
    "#printing description\n",
    "print(train_df.describe().show())\n",
    "test_result = lr_model.evaluate(test_df)\n",
    "print(\"Root Mean Squared Error (RMSE) on test data (LinearRegression)= %g\" % test_result.rootMeanSquaredError)"
   ]
  },
  {
   "cell_type": "code",
   "execution_count": 12,
   "metadata": {},
   "outputs": [
    {
     "name": "stdout",
     "output_type": "stream",
     "text": [
      "NumIterations: 1\n",
      "ObjectiveHistory: [0.0]\n",
      "+-------------------+\n",
      "|          residuals|\n",
      "+-------------------+\n",
      "|-0.4349869685966703|\n",
      "|-0.4349869685966703|\n",
      "|-0.4349869685966703|\n",
      "|-0.4349869685966703|\n",
      "|-0.4349869685966703|\n",
      "|-0.4349869685966703|\n",
      "|-0.4349869685966703|\n",
      "|-0.4349869685966703|\n",
      "| 0.6831050786310082|\n",
      "| 0.6831050786310082|\n",
      "| 0.6831050786310082|\n",
      "| 0.6831050786310082|\n",
      "| 0.6831050786310082|\n",
      "|-0.3548720252856463|\n",
      "|-0.3548720252856463|\n",
      "|-0.3548720252856463|\n",
      "|-0.3548720252856463|\n",
      "|-0.3548720252856463|\n",
      "|-0.3548720252856463|\n",
      "|-0.3548720252856463|\n",
      "+-------------------+\n",
      "only showing top 20 rows\n",
      "\n",
      "None\n"
     ]
    }
   ],
   "source": [
    "print(\"NumIterations: %d\" % trainingSummary.totalIterations)\n",
    "print(\"ObjectiveHistory: %s\" % str(trainingSummary.objectiveHistory))\n",
    "print(trainingSummary.residuals.show())"
   ]
  },
  {
   "cell_type": "code",
   "execution_count": 13,
   "metadata": {},
   "outputs": [
    {
     "name": "stdout",
     "output_type": "stream",
     "text": [
      "+-------------------+-----------+--------------------+\n",
      "|         prediction|DEATH_EVENT|            features|\n",
      "+-------------------+-----------+--------------------+\n",
      "| 0.4349869685966703|          0|[23.0,66.0,25.0,2...|\n",
      "| 0.4349869685966703|          0|[23.0,66.0,25.0,2...|\n",
      "| 0.4349869685966703|          0|[23.0,66.0,25.0,2...|\n",
      "| 0.4349869685966703|          0|[23.0,66.0,25.0,2...|\n",
      "| 0.3168949213689918|          1|[40.0,60.0,38.0,1...|\n",
      "| 0.3168949213689918|          1|[40.0,60.0,38.0,1...|\n",
      "| 0.3168949213689918|          1|[40.0,60.0,38.0,1...|\n",
      "| 0.3168949213689918|          1|[40.0,60.0,38.0,1...|\n",
      "| 0.3168949213689918|          1|[40.0,60.0,38.0,1...|\n",
      "| 0.3168949213689918|          1|[40.0,60.0,38.0,1...|\n",
      "| 0.3168949213689918|          1|[40.0,60.0,38.0,1...|\n",
      "| 0.3548720252856463|          0|[40.0,90.0,35.0,2...|\n",
      "| 0.3548720252856463|          0|[40.0,90.0,35.0,2...|\n",
      "| 0.3548720252856463|          0|[40.0,90.0,35.0,2...|\n",
      "| 0.3548720252856463|          0|[40.0,90.0,35.0,2...|\n",
      "|0.29406935904122866|          1|[40.0,90.0,35.0,4...|\n",
      "|0.29406935904122866|          1|[40.0,90.0,35.0,4...|\n",
      "| 0.2495226533808501|          0|[40.0,101.0,40.0,...|\n",
      "| 0.2495226533808501|          0|[40.0,101.0,40.0,...|\n",
      "| 0.2495226533808501|          0|[40.0,101.0,40.0,...|\n",
      "+-------------------+-----------+--------------------+\n",
      "only showing top 20 rows\n",
      "\n"
     ]
    }
   ],
   "source": [
    "predictions = lr_model.transform(test_df)\n",
    "predictions.select(\"prediction\",\"DEATH_EVENT\",\"features\").show()"
   ]
  },
  {
   "cell_type": "code",
   "execution_count": 14,
   "metadata": {},
   "outputs": [
    {
     "name": "stdout",
     "output_type": "stream",
     "text": [
      "Root Mean Squared Error (RMSE) on test data (DecisionTreeRegressor)= 0.380694\n"
     ]
    }
   ],
   "source": [
    "#Decision tree model\n",
    "dt = DecisionTreeRegressor(featuresCol ='features', labelCol = 'DEATH_EVENT')\n",
    "dt_model = dt.fit(train_df)\n",
    "dt_predictions = dt_model.transform(test_df)\n",
    "dt_evaluator = RegressionEvaluator(labelCol=\"DEATH_EVENT\", predictionCol=\"prediction\", metricName=\"rmse\")\n",
    "rmse = dt_evaluator.evaluate(dt_predictions)\n",
    "print(\"Root Mean Squared Error (RMSE) on test data (DecisionTreeRegressor)= %g\" % rmse)"
   ]
  },
  {
   "cell_type": "code",
   "execution_count": 15,
   "metadata": {},
   "outputs": [
    {
     "name": "stdout",
     "output_type": "stream",
     "text": [
      "(6,[2,3,4,5],[0.18234413310627734,0.09172934364178946,0.5392443343419457,0.18668218890998756])\n",
      "[Row(age=75, anaemia=0, creatinine_phosphokinase=582, diabetes=0, ejection_fraction=20, high_blood_pressure=1, platelets=265000.0, serum_creatinine=1.9, serum_sodium=130, sex=1, smoking=0, time=4, DEATH_EVENT=1)]\n"
     ]
    }
   ],
   "source": [
    "print(dt_model.featureImportances)\n",
    "print(heart_df.take(1))"
   ]
  },
  {
   "cell_type": "code",
   "execution_count": 16,
   "metadata": {},
   "outputs": [
    {
     "name": "stdout",
     "output_type": "stream",
     "text": [
      "+--------------------+-----------+--------------------+\n",
      "|          prediction|DEATH_EVENT|            features|\n",
      "+--------------------+-----------+--------------------+\n",
      "|0.026057054132389637|          0|[23.0,66.0,25.0,2...|\n",
      "|0.026057054132389637|          0|[23.0,66.0,25.0,2...|\n",
      "|0.026057054132389637|          0|[23.0,66.0,25.0,2...|\n",
      "|0.026057054132389637|          0|[23.0,66.0,25.0,2...|\n",
      "|   0.991600058457055|          1|[40.0,60.0,38.0,1...|\n",
      "+--------------------+-----------+--------------------+\n",
      "only showing top 5 rows\n",
      "\n",
      "Root Mean Squared Error (RMSE) on test data (GBTRegressor)= 0.313114\n"
     ]
    }
   ],
   "source": [
    "#GBT regressor model\n",
    "gbt = GBTRegressor(featuresCol = 'features', labelCol = 'DEATH_EVENT', maxIter=10)\n",
    "gbt_model = gbt.fit(train_df)\n",
    "gbt_predictions = gbt_model.transform(test_df)\n",
    "gbt_predictions.select('prediction', 'DEATH_EVENT', 'features').show(5)\n",
    "gbt_evaluator = RegressionEvaluator(labelCol=\"DEATH_EVENT\", predictionCol=\"prediction\", metricName=\"rmse\")\n",
    "rmse = gbt_evaluator.evaluate(gbt_predictions)\n",
    "print(\"Root Mean Squared Error (RMSE) on test data (GBTRegressor)= %g\" % rmse)"
   ]
  }
 ],
 "metadata": {
  "kernelspec": {
   "display_name": "Python 3",
   "language": "python",
   "name": "python3"
  },
  "language_info": {
   "codemirror_mode": {
    "name": "ipython",
    "version": 3
   },
   "file_extension": ".py",
   "mimetype": "text/x-python",
   "name": "python",
   "nbconvert_exporter": "python",
   "pygments_lexer": "ipython3",
   "version": "3.8.5"
  }
 },
 "nbformat": 4,
 "nbformat_minor": 4
}
